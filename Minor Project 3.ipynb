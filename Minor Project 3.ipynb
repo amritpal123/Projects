{
 "cells": [
  {
   "cell_type": "code",
   "execution_count": 84,
   "metadata": {},
   "outputs": [],
   "source": [
    "# for dataframes\n",
    "import pandas as pd\n",
    "import numpy as np\n",
    "\n",
    "from sklearn.model_selection import train_test_split\n",
    "\n",
    "\n",
    "# Machine Learning Models\n",
    "from sklearn.linear_model import LogisticRegression\n",
    "from sklearn.ensemble import RandomForestClassifier\n",
    "\n",
    "import os\n",
    "mingw_path = 'C:\\\\Program Files\\\\mingw-w64\\\\x86_64-7.2.0-posix-seh-rt_v5-rev0\\\\mingw64\\\\bin'\n",
    "os.environ['PATH'] = mingw_path + ';' + os.environ['PATH']\n"
   ]
  },
  {
   "cell_type": "code",
   "execution_count": 85,
   "metadata": {},
   "outputs": [
    {
     "data": {
      "text/html": [
       "<div>\n",
       "<style scoped>\n",
       "    .dataframe tbody tr th:only-of-type {\n",
       "        vertical-align: middle;\n",
       "    }\n",
       "\n",
       "    .dataframe tbody tr th {\n",
       "        vertical-align: top;\n",
       "    }\n",
       "\n",
       "    .dataframe thead th {\n",
       "        text-align: right;\n",
       "    }\n",
       "</style>\n",
       "<table border=\"1\" class=\"dataframe\">\n",
       "  <thead>\n",
       "    <tr style=\"text-align: right;\">\n",
       "      <th></th>\n",
       "      <th>Dataset</th>\n",
       "      <th>age</th>\n",
       "      <th>gender</th>\n",
       "      <th>albumin</th>\n",
       "      <th>alkaline_phosphatase</th>\n",
       "      <th>alanine_aminotransferase</th>\n",
       "      <th>aspartate_aminotransferase</th>\n",
       "      <th>bilirubin</th>\n",
       "      <th>cholinesterase</th>\n",
       "      <th>cholesterol</th>\n",
       "      <th>creatinine</th>\n",
       "      <th>gamma_glutamyl_transferase</th>\n",
       "      <th>protein</th>\n",
       "    </tr>\n",
       "  </thead>\n",
       "  <tbody>\n",
       "    <tr>\n",
       "      <th>0</th>\n",
       "      <td>hepatitis</td>\n",
       "      <td>19</td>\n",
       "      <td>m</td>\n",
       "      <td>41.0</td>\n",
       "      <td>NaN</td>\n",
       "      <td>87.0</td>\n",
       "      <td>67.0</td>\n",
       "      <td>12.0</td>\n",
       "      <td>7.55</td>\n",
       "      <td>3.90</td>\n",
       "      <td>62.0</td>\n",
       "      <td>65.0</td>\n",
       "      <td>75</td>\n",
       "    </tr>\n",
       "    <tr>\n",
       "      <th>1</th>\n",
       "      <td>hepatitis</td>\n",
       "      <td>23</td>\n",
       "      <td>m</td>\n",
       "      <td>47.0</td>\n",
       "      <td>19.1</td>\n",
       "      <td>38.9</td>\n",
       "      <td>164.2</td>\n",
       "      <td>17.0</td>\n",
       "      <td>7.09</td>\n",
       "      <td>3.20</td>\n",
       "      <td>79.3</td>\n",
       "      <td>90.4</td>\n",
       "      <td>70.1</td>\n",
       "    </tr>\n",
       "    <tr>\n",
       "      <th>2</th>\n",
       "      <td>hepatitis</td>\n",
       "      <td>25</td>\n",
       "      <td>m</td>\n",
       "      <td>42.0</td>\n",
       "      <td>38.2</td>\n",
       "      <td>63.3</td>\n",
       "      <td>187.7</td>\n",
       "      <td>14.0</td>\n",
       "      <td>6.00</td>\n",
       "      <td>4.28</td>\n",
       "      <td>66.9</td>\n",
       "      <td>40.2</td>\n",
       "      <td>70.5</td>\n",
       "    </tr>\n",
       "    <tr>\n",
       "      <th>3</th>\n",
       "      <td>hepatitis</td>\n",
       "      <td>27</td>\n",
       "      <td>m</td>\n",
       "      <td>45.0</td>\n",
       "      <td>27.5</td>\n",
       "      <td>10.5</td>\n",
       "      <td>37.8</td>\n",
       "      <td>10.0</td>\n",
       "      <td>8.77</td>\n",
       "      <td>3.20</td>\n",
       "      <td>55.2</td>\n",
       "      <td>35.9</td>\n",
       "      <td>74.5</td>\n",
       "    </tr>\n",
       "    <tr>\n",
       "      <th>4</th>\n",
       "      <td>hepatitis</td>\n",
       "      <td>29</td>\n",
       "      <td>m</td>\n",
       "      <td>49.0</td>\n",
       "      <td>NaN</td>\n",
       "      <td>53.0</td>\n",
       "      <td>39.0</td>\n",
       "      <td>15.0</td>\n",
       "      <td>8.79</td>\n",
       "      <td>3.60</td>\n",
       "      <td>79.0</td>\n",
       "      <td>37.0</td>\n",
       "      <td>90</td>\n",
       "    </tr>\n",
       "    <tr>\n",
       "      <th>5</th>\n",
       "      <td>fibrosis</td>\n",
       "      <td>29</td>\n",
       "      <td>m</td>\n",
       "      <td>41.0</td>\n",
       "      <td>43.1</td>\n",
       "      <td>2.4</td>\n",
       "      <td>83.5</td>\n",
       "      <td>6.0</td>\n",
       "      <td>11.49</td>\n",
       "      <td>5.42</td>\n",
       "      <td>55.2</td>\n",
       "      <td>130.0</td>\n",
       "      <td>66.5</td>\n",
       "    </tr>\n",
       "    <tr>\n",
       "      <th>6</th>\n",
       "      <td>hepatitis</td>\n",
       "      <td>30</td>\n",
       "      <td>m</td>\n",
       "      <td>45.0</td>\n",
       "      <td>NaN</td>\n",
       "      <td>66.0</td>\n",
       "      <td>45.0</td>\n",
       "      <td>14.0</td>\n",
       "      <td>12.16</td>\n",
       "      <td>6.10</td>\n",
       "      <td>86.0</td>\n",
       "      <td>43.0</td>\n",
       "      <td>77</td>\n",
       "    </tr>\n",
       "    <tr>\n",
       "      <th>7</th>\n",
       "      <td>no_disease</td>\n",
       "      <td>32</td>\n",
       "      <td>m</td>\n",
       "      <td>38.5</td>\n",
       "      <td>52.5</td>\n",
       "      <td>7.7</td>\n",
       "      <td>22.1</td>\n",
       "      <td>7.5</td>\n",
       "      <td>6.93</td>\n",
       "      <td>3.23</td>\n",
       "      <td>106.0</td>\n",
       "      <td>12.1</td>\n",
       "      <td>69</td>\n",
       "    </tr>\n",
       "    <tr>\n",
       "      <th>8</th>\n",
       "      <td>no_disease</td>\n",
       "      <td>32</td>\n",
       "      <td>m</td>\n",
       "      <td>38.5</td>\n",
       "      <td>70.3</td>\n",
       "      <td>18.0</td>\n",
       "      <td>24.7</td>\n",
       "      <td>3.9</td>\n",
       "      <td>11.17</td>\n",
       "      <td>4.80</td>\n",
       "      <td>74.0</td>\n",
       "      <td>15.6</td>\n",
       "      <td>76.5</td>\n",
       "    </tr>\n",
       "    <tr>\n",
       "      <th>9</th>\n",
       "      <td>no_disease</td>\n",
       "      <td>32</td>\n",
       "      <td>m</td>\n",
       "      <td>46.9</td>\n",
       "      <td>74.7</td>\n",
       "      <td>36.2</td>\n",
       "      <td>52.6</td>\n",
       "      <td>6.1</td>\n",
       "      <td>8.84</td>\n",
       "      <td>5.20</td>\n",
       "      <td>86.0</td>\n",
       "      <td>33.2</td>\n",
       "      <td>79.3</td>\n",
       "    </tr>\n",
       "    <tr>\n",
       "      <th>10</th>\n",
       "      <td>no_disease</td>\n",
       "      <td>32</td>\n",
       "      <td>m</td>\n",
       "      <td>43.2</td>\n",
       "      <td>52.0</td>\n",
       "      <td>30.6</td>\n",
       "      <td>22.6</td>\n",
       "      <td>18.9</td>\n",
       "      <td>7.33</td>\n",
       "      <td>4.74</td>\n",
       "      <td>80.0</td>\n",
       "      <td>33.8</td>\n",
       "      <td>75.7</td>\n",
       "    </tr>\n",
       "    <tr>\n",
       "      <th>11</th>\n",
       "      <td>no_disease</td>\n",
       "      <td>32</td>\n",
       "      <td>m</td>\n",
       "      <td>39.2</td>\n",
       "      <td>74.1</td>\n",
       "      <td>32.6</td>\n",
       "      <td>24.8</td>\n",
       "      <td>9.6</td>\n",
       "      <td>9.15</td>\n",
       "      <td>4.32</td>\n",
       "      <td>76.0</td>\n",
       "      <td>29.9</td>\n",
       "      <td>68.7</td>\n",
       "    </tr>\n",
       "    <tr>\n",
       "      <th>12</th>\n",
       "      <td>no_disease</td>\n",
       "      <td>32</td>\n",
       "      <td>m</td>\n",
       "      <td>41.6</td>\n",
       "      <td>43.3</td>\n",
       "      <td>18.5</td>\n",
       "      <td>19.7</td>\n",
       "      <td>12.3</td>\n",
       "      <td>9.92</td>\n",
       "      <td>6.05</td>\n",
       "      <td>111.0</td>\n",
       "      <td>91.0</td>\n",
       "      <td>74</td>\n",
       "    </tr>\n",
       "    <tr>\n",
       "      <th>13</th>\n",
       "      <td>no_disease</td>\n",
       "      <td>32</td>\n",
       "      <td>m</td>\n",
       "      <td>46.3</td>\n",
       "      <td>41.3</td>\n",
       "      <td>17.5</td>\n",
       "      <td>17.8</td>\n",
       "      <td>8.5</td>\n",
       "      <td>7.01</td>\n",
       "      <td>4.79</td>\n",
       "      <td>70.0</td>\n",
       "      <td>16.9</td>\n",
       "      <td>74.5</td>\n",
       "    </tr>\n",
       "    <tr>\n",
       "      <th>14</th>\n",
       "      <td>no_disease</td>\n",
       "      <td>32</td>\n",
       "      <td>m</td>\n",
       "      <td>42.2</td>\n",
       "      <td>41.9</td>\n",
       "      <td>35.8</td>\n",
       "      <td>31.1</td>\n",
       "      <td>16.1</td>\n",
       "      <td>5.82</td>\n",
       "      <td>4.60</td>\n",
       "      <td>109.0</td>\n",
       "      <td>21.5</td>\n",
       "      <td>67.1</td>\n",
       "    </tr>\n",
       "  </tbody>\n",
       "</table>\n",
       "</div>"
      ],
      "text/plain": [
       "        Dataset  age gender  albumin  alkaline_phosphatase  \\\n",
       "0     hepatitis   19      m     41.0                   NaN   \n",
       "1     hepatitis   23      m     47.0                  19.1   \n",
       "2     hepatitis   25      m     42.0                  38.2   \n",
       "3     hepatitis   27      m     45.0                  27.5   \n",
       "4     hepatitis   29      m     49.0                   NaN   \n",
       "5      fibrosis   29      m     41.0                  43.1   \n",
       "6     hepatitis   30      m     45.0                   NaN   \n",
       "7    no_disease   32      m     38.5                  52.5   \n",
       "8    no_disease   32      m     38.5                  70.3   \n",
       "9    no_disease   32      m     46.9                  74.7   \n",
       "10   no_disease   32      m     43.2                  52.0   \n",
       "11   no_disease   32      m     39.2                  74.1   \n",
       "12   no_disease   32      m     41.6                  43.3   \n",
       "13   no_disease   32      m     46.3                  41.3   \n",
       "14   no_disease   32      m     42.2                  41.9   \n",
       "\n",
       "    alanine_aminotransferase  aspartate_aminotransferase  bilirubin  \\\n",
       "0                       87.0                        67.0       12.0   \n",
       "1                       38.9                       164.2       17.0   \n",
       "2                       63.3                       187.7       14.0   \n",
       "3                       10.5                        37.8       10.0   \n",
       "4                       53.0                        39.0       15.0   \n",
       "5                        2.4                        83.5        6.0   \n",
       "6                       66.0                        45.0       14.0   \n",
       "7                        7.7                        22.1        7.5   \n",
       "8                       18.0                        24.7        3.9   \n",
       "9                       36.2                        52.6        6.1   \n",
       "10                      30.6                        22.6       18.9   \n",
       "11                      32.6                        24.8        9.6   \n",
       "12                      18.5                        19.7       12.3   \n",
       "13                      17.5                        17.8        8.5   \n",
       "14                      35.8                        31.1       16.1   \n",
       "\n",
       "    cholinesterase  cholesterol  creatinine  gamma_glutamyl_transferase   \\\n",
       "0             7.55         3.90        62.0                         65.0   \n",
       "1             7.09         3.20        79.3                         90.4   \n",
       "2             6.00         4.28        66.9                         40.2   \n",
       "3             8.77         3.20        55.2                         35.9   \n",
       "4             8.79         3.60        79.0                         37.0   \n",
       "5            11.49         5.42        55.2                        130.0   \n",
       "6            12.16         6.10        86.0                         43.0   \n",
       "7             6.93         3.23       106.0                         12.1   \n",
       "8            11.17         4.80        74.0                         15.6   \n",
       "9             8.84         5.20        86.0                         33.2   \n",
       "10            7.33         4.74        80.0                         33.8   \n",
       "11            9.15         4.32        76.0                         29.9   \n",
       "12            9.92         6.05       111.0                         91.0   \n",
       "13            7.01         4.79        70.0                         16.9   \n",
       "14            5.82         4.60       109.0                         21.5   \n",
       "\n",
       "   protein   \n",
       "0        75  \n",
       "1      70.1  \n",
       "2      70.5  \n",
       "3      74.5  \n",
       "4        90  \n",
       "5      66.5  \n",
       "6        77  \n",
       "7        69  \n",
       "8      76.5  \n",
       "9      79.3  \n",
       "10     75.7  \n",
       "11     68.7  \n",
       "12       74  \n",
       "13     74.5  \n",
       "14     67.1  "
      ]
     },
     "execution_count": 85,
     "metadata": {},
     "output_type": "execute_result"
    }
   ],
   "source": [
    "df=pd.read_csv(\"C:\\\\Users\\\\Amritpal Singh\\\\Downloads\\\\HCV-data.csv\")\n",
    "df.head(15)"
   ]
  },
  {
   "cell_type": "code",
   "execution_count": 86,
   "metadata": {},
   "outputs": [
    {
     "data": {
      "text/plain": [
       "(615, 13)"
      ]
     },
     "execution_count": 86,
     "metadata": {},
     "output_type": "execute_result"
    }
   ],
   "source": [
    "df.shape"
   ]
  },
  {
   "cell_type": "code",
   "execution_count": 87,
   "metadata": {},
   "outputs": [
    {
     "name": "stdout",
     "output_type": "stream",
     "text": [
      "(589, 13)\n"
     ]
    }
   ],
   "source": [
    "df = df.drop_duplicates()\n",
    "df=df.dropna()\n",
    "print( df.shape )"
   ]
  },
  {
   "cell_type": "code",
   "execution_count": 88,
   "metadata": {},
   "outputs": [
    {
     "data": {
      "text/html": [
       "<div>\n",
       "<style scoped>\n",
       "    .dataframe tbody tr th:only-of-type {\n",
       "        vertical-align: middle;\n",
       "    }\n",
       "\n",
       "    .dataframe tbody tr th {\n",
       "        vertical-align: top;\n",
       "    }\n",
       "\n",
       "    .dataframe thead th {\n",
       "        text-align: right;\n",
       "    }\n",
       "</style>\n",
       "<table border=\"1\" class=\"dataframe\">\n",
       "  <thead>\n",
       "    <tr style=\"text-align: right;\">\n",
       "      <th></th>\n",
       "      <th>index</th>\n",
       "      <th>Dataset</th>\n",
       "      <th>age</th>\n",
       "      <th>gender</th>\n",
       "      <th>albumin</th>\n",
       "      <th>alkaline_phosphatase</th>\n",
       "      <th>alanine_aminotransferase</th>\n",
       "      <th>aspartate_aminotransferase</th>\n",
       "      <th>bilirubin</th>\n",
       "      <th>cholinesterase</th>\n",
       "      <th>cholesterol</th>\n",
       "      <th>creatinine</th>\n",
       "      <th>gamma_glutamyl_transferase</th>\n",
       "      <th>protein</th>\n",
       "    </tr>\n",
       "  </thead>\n",
       "  <tbody>\n",
       "    <tr>\n",
       "      <th>0</th>\n",
       "      <td>1</td>\n",
       "      <td>hepatitis</td>\n",
       "      <td>23</td>\n",
       "      <td>m</td>\n",
       "      <td>47.0</td>\n",
       "      <td>19.1</td>\n",
       "      <td>38.9</td>\n",
       "      <td>164.2</td>\n",
       "      <td>17.0</td>\n",
       "      <td>7.09</td>\n",
       "      <td>3.20</td>\n",
       "      <td>79.3</td>\n",
       "      <td>90.4</td>\n",
       "      <td>70.1</td>\n",
       "    </tr>\n",
       "    <tr>\n",
       "      <th>1</th>\n",
       "      <td>2</td>\n",
       "      <td>hepatitis</td>\n",
       "      <td>25</td>\n",
       "      <td>m</td>\n",
       "      <td>42.0</td>\n",
       "      <td>38.2</td>\n",
       "      <td>63.3</td>\n",
       "      <td>187.7</td>\n",
       "      <td>14.0</td>\n",
       "      <td>6.00</td>\n",
       "      <td>4.28</td>\n",
       "      <td>66.9</td>\n",
       "      <td>40.2</td>\n",
       "      <td>70.5</td>\n",
       "    </tr>\n",
       "    <tr>\n",
       "      <th>2</th>\n",
       "      <td>3</td>\n",
       "      <td>hepatitis</td>\n",
       "      <td>27</td>\n",
       "      <td>m</td>\n",
       "      <td>45.0</td>\n",
       "      <td>27.5</td>\n",
       "      <td>10.5</td>\n",
       "      <td>37.8</td>\n",
       "      <td>10.0</td>\n",
       "      <td>8.77</td>\n",
       "      <td>3.20</td>\n",
       "      <td>55.2</td>\n",
       "      <td>35.9</td>\n",
       "      <td>74.5</td>\n",
       "    </tr>\n",
       "    <tr>\n",
       "      <th>3</th>\n",
       "      <td>5</td>\n",
       "      <td>fibrosis</td>\n",
       "      <td>29</td>\n",
       "      <td>m</td>\n",
       "      <td>41.0</td>\n",
       "      <td>43.1</td>\n",
       "      <td>2.4</td>\n",
       "      <td>83.5</td>\n",
       "      <td>6.0</td>\n",
       "      <td>11.49</td>\n",
       "      <td>5.42</td>\n",
       "      <td>55.2</td>\n",
       "      <td>130.0</td>\n",
       "      <td>66.5</td>\n",
       "    </tr>\n",
       "    <tr>\n",
       "      <th>4</th>\n",
       "      <td>7</td>\n",
       "      <td>no_disease</td>\n",
       "      <td>32</td>\n",
       "      <td>m</td>\n",
       "      <td>38.5</td>\n",
       "      <td>52.5</td>\n",
       "      <td>7.7</td>\n",
       "      <td>22.1</td>\n",
       "      <td>7.5</td>\n",
       "      <td>6.93</td>\n",
       "      <td>3.23</td>\n",
       "      <td>106.0</td>\n",
       "      <td>12.1</td>\n",
       "      <td>69</td>\n",
       "    </tr>\n",
       "    <tr>\n",
       "      <th>...</th>\n",
       "      <td>...</td>\n",
       "      <td>...</td>\n",
       "      <td>...</td>\n",
       "      <td>...</td>\n",
       "      <td>...</td>\n",
       "      <td>...</td>\n",
       "      <td>...</td>\n",
       "      <td>...</td>\n",
       "      <td>...</td>\n",
       "      <td>...</td>\n",
       "      <td>...</td>\n",
       "      <td>...</td>\n",
       "      <td>...</td>\n",
       "      <td>...</td>\n",
       "    </tr>\n",
       "    <tr>\n",
       "      <th>584</th>\n",
       "      <td>609</td>\n",
       "      <td>suspect_disease</td>\n",
       "      <td>74</td>\n",
       "      <td>m</td>\n",
       "      <td>20.3</td>\n",
       "      <td>84.0</td>\n",
       "      <td>22.8</td>\n",
       "      <td>43.0</td>\n",
       "      <td>5.7</td>\n",
       "      <td>4.91</td>\n",
       "      <td>3.19</td>\n",
       "      <td>52.0</td>\n",
       "      <td>218.3</td>\n",
       "      <td>47.8</td>\n",
       "    </tr>\n",
       "    <tr>\n",
       "      <th>585</th>\n",
       "      <td>610</td>\n",
       "      <td>cirrhosis</td>\n",
       "      <td>74</td>\n",
       "      <td>m</td>\n",
       "      <td>23.0</td>\n",
       "      <td>34.1</td>\n",
       "      <td>2.1</td>\n",
       "      <td>90.4</td>\n",
       "      <td>22.0</td>\n",
       "      <td>2.50</td>\n",
       "      <td>3.29</td>\n",
       "      <td>51.0</td>\n",
       "      <td>46.8</td>\n",
       "      <td>57.1</td>\n",
       "    </tr>\n",
       "    <tr>\n",
       "      <th>586</th>\n",
       "      <td>612</td>\n",
       "      <td>no_disease</td>\n",
       "      <td>76</td>\n",
       "      <td>m</td>\n",
       "      <td>29.2</td>\n",
       "      <td>48.9</td>\n",
       "      <td>25.2</td>\n",
       "      <td>27.2</td>\n",
       "      <td>8.3</td>\n",
       "      <td>4.52</td>\n",
       "      <td>2.79</td>\n",
       "      <td>127.0</td>\n",
       "      <td>18.3</td>\n",
       "      <td>58.1</td>\n",
       "    </tr>\n",
       "    <tr>\n",
       "      <th>587</th>\n",
       "      <td>613</td>\n",
       "      <td>no_disease</td>\n",
       "      <td>76</td>\n",
       "      <td>m</td>\n",
       "      <td>38.0</td>\n",
       "      <td>97.1</td>\n",
       "      <td>28.6</td>\n",
       "      <td>33.1</td>\n",
       "      <td>14.1</td>\n",
       "      <td>4.83</td>\n",
       "      <td>5.56</td>\n",
       "      <td>90.0</td>\n",
       "      <td>117.6</td>\n",
       "      <td>73.8</td>\n",
       "    </tr>\n",
       "    <tr>\n",
       "      <th>588</th>\n",
       "      <td>614</td>\n",
       "      <td>no_disease</td>\n",
       "      <td>77</td>\n",
       "      <td>m</td>\n",
       "      <td>52.2</td>\n",
       "      <td>52.2</td>\n",
       "      <td>12.0</td>\n",
       "      <td>23.5</td>\n",
       "      <td>10.9</td>\n",
       "      <td>5.51</td>\n",
       "      <td>4.41</td>\n",
       "      <td>103.0</td>\n",
       "      <td>25.8</td>\n",
       "      <td>67.2</td>\n",
       "    </tr>\n",
       "  </tbody>\n",
       "</table>\n",
       "<p>589 rows × 14 columns</p>\n",
       "</div>"
      ],
      "text/plain": [
       "     index          Dataset  age gender  albumin  alkaline_phosphatase  \\\n",
       "0        1        hepatitis   23      m     47.0                  19.1   \n",
       "1        2        hepatitis   25      m     42.0                  38.2   \n",
       "2        3        hepatitis   27      m     45.0                  27.5   \n",
       "3        5         fibrosis   29      m     41.0                  43.1   \n",
       "4        7       no_disease   32      m     38.5                  52.5   \n",
       "..     ...              ...  ...    ...      ...                   ...   \n",
       "584    609  suspect_disease   74      m     20.3                  84.0   \n",
       "585    610        cirrhosis   74      m     23.0                  34.1   \n",
       "586    612       no_disease   76      m     29.2                  48.9   \n",
       "587    613       no_disease   76      m     38.0                  97.1   \n",
       "588    614       no_disease   77      m     52.2                  52.2   \n",
       "\n",
       "     alanine_aminotransferase  aspartate_aminotransferase  bilirubin  \\\n",
       "0                        38.9                       164.2       17.0   \n",
       "1                        63.3                       187.7       14.0   \n",
       "2                        10.5                        37.8       10.0   \n",
       "3                         2.4                        83.5        6.0   \n",
       "4                         7.7                        22.1        7.5   \n",
       "..                        ...                         ...        ...   \n",
       "584                      22.8                        43.0        5.7   \n",
       "585                       2.1                        90.4       22.0   \n",
       "586                      25.2                        27.2        8.3   \n",
       "587                      28.6                        33.1       14.1   \n",
       "588                      12.0                        23.5       10.9   \n",
       "\n",
       "     cholinesterase  cholesterol  creatinine  gamma_glutamyl_transferase   \\\n",
       "0              7.09         3.20        79.3                         90.4   \n",
       "1              6.00         4.28        66.9                         40.2   \n",
       "2              8.77         3.20        55.2                         35.9   \n",
       "3             11.49         5.42        55.2                        130.0   \n",
       "4              6.93         3.23       106.0                         12.1   \n",
       "..              ...          ...         ...                          ...   \n",
       "584            4.91         3.19        52.0                        218.3   \n",
       "585            2.50         3.29        51.0                         46.8   \n",
       "586            4.52         2.79       127.0                         18.3   \n",
       "587            4.83         5.56        90.0                        117.6   \n",
       "588            5.51         4.41       103.0                         25.8   \n",
       "\n",
       "    protein   \n",
       "0       70.1  \n",
       "1       70.5  \n",
       "2       74.5  \n",
       "3       66.5  \n",
       "4         69  \n",
       "..       ...  \n",
       "584     47.8  \n",
       "585     57.1  \n",
       "586     58.1  \n",
       "587     73.8  \n",
       "588     67.2  \n",
       "\n",
       "[589 rows x 14 columns]"
      ]
     },
     "execution_count": 88,
     "metadata": {},
     "output_type": "execute_result"
    }
   ],
   "source": [
    "df=df.reset_index()\n",
    "df"
   ]
  },
  {
   "cell_type": "code",
   "execution_count": 89,
   "metadata": {},
   "outputs": [
    {
     "name": "stderr",
     "output_type": "stream",
     "text": [
      "C:\\Users\\Amritpal Singh\\Anaconda3\\lib\\site-packages\\ipykernel_launcher.py:14: SettingWithCopyWarning: \n",
      "A value is trying to be set on a copy of a slice from a DataFrame\n",
      "\n",
      "See the caveats in the documentation: https://pandas.pydata.org/pandas-docs/stable/user_guide/indexing.html#returning-a-view-versus-a-copy\n",
      "  \n"
     ]
    }
   ],
   "source": [
    "def partition1(x):\n",
    "    if x == \" no_disease\":\n",
    "        return 0\n",
    "    elif x == \" suspect_disease\":\n",
    "        return 1\n",
    "    elif x == \" hepatitis\":\n",
    "        return 2\n",
    "    elif x == \" fibrosis\":\n",
    "        return 3\n",
    "    elif x == \" cirrhosis\":\n",
    "        return 4\n",
    "    \n",
    "for i in range(len(df)):\n",
    "    df['Dataset'][i]=partition1(df[\"Dataset\"][i])"
   ]
  },
  {
   "cell_type": "code",
   "execution_count": 90,
   "metadata": {},
   "outputs": [
    {
     "name": "stderr",
     "output_type": "stream",
     "text": [
      "C:\\Users\\Amritpal Singh\\Anaconda3\\lib\\site-packages\\ipykernel_launcher.py:7: SettingWithCopyWarning: \n",
      "A value is trying to be set on a copy of a slice from a DataFrame\n",
      "\n",
      "See the caveats in the documentation: https://pandas.pydata.org/pandas-docs/stable/user_guide/indexing.html#returning-a-view-versus-a-copy\n",
      "  import sys\n"
     ]
    }
   ],
   "source": [
    "def partition(x):\n",
    "    if x == \"m\":\n",
    "        return 0\n",
    "    else:\n",
    "        return 1\n",
    "for i in range(len(df)):\n",
    "    df['gender'][i]=partition(df[\"gender\"][i])"
   ]
  },
  {
   "cell_type": "code",
   "execution_count": 91,
   "metadata": {},
   "outputs": [],
   "source": [
    "df=df.drop('index',axis=1)"
   ]
  },
  {
   "cell_type": "code",
   "execution_count": 96,
   "metadata": {},
   "outputs": [],
   "source": [
    "rows = df.index[[301,326,344,455,511,583,584]]\n",
    "\n",
    "df.drop(rows, inplace=True)"
   ]
  },
  {
   "cell_type": "code",
   "execution_count": 98,
   "metadata": {},
   "outputs": [],
   "source": [
    "df[\"Dataset\"] = df[\"Dataset\"].astype('int64')\n",
    "df[\"gender\"] = df[\"gender\"].astype('int64')"
   ]
  },
  {
   "cell_type": "code",
   "execution_count": 104,
   "metadata": {},
   "outputs": [
    {
     "data": {
      "image/png": "[encoded data removed]",
      "text/plain": [
       "<Figure size 648x504 with 2 Axes>"
      ]
     },
     "metadata": {
      "needs_background": "light"
     },
     "output_type": "display_data"
    }
   ],
   "source": [
    "import seaborn as sns\n",
    "import matplotlib.pyplot as plt\n",
    "list1=df.columns\n",
    "plt.figure(figsize=(9,7))\n",
    "sns.heatmap(df[list1].corr(),annot=True,fmt=\".2f\")\n",
    "plt.show()"
   ]
  },
  {
   "cell_type": "markdown",
   "metadata": {},
   "source": [
    "# Removing Outliers"
   ]
  },
  {
   "cell_type": "code",
   "execution_count": 101,
   "metadata": {},
   "outputs": [
    {
     "data": {
      "text/plain": [
       "<matplotlib.axes._subplots.AxesSubplot at 0x1776dad59e8>"
      ]
     },
     "execution_count": 101,
     "metadata": {},
     "output_type": "execute_result"
    },
    {
     "data": {
      "image/png": "[encoded data removed]",
      "text/plain": [
       "<Figure size 432x288 with 1 Axes>"
      ]
     },
     "metadata": {
      "needs_background": "light"
     },
     "output_type": "display_data"
    }
   ],
   "source": [
    "import seaborn as sns\n",
    "\n",
    "sns.boxplot(df.aspartate_aminotransferase)"
   ]
  },
  {
   "cell_type": "code",
   "execution_count": 102,
   "metadata": {},
   "outputs": [
    {
     "data": {
      "text/plain": [
       "(582, 13)"
      ]
     },
     "execution_count": 102,
     "metadata": {},
     "output_type": "execute_result"
    }
   ],
   "source": [
    "df = df[df.aspartate_aminotransferase <=2500 ]\n",
    "df.shape"
   ]
  },
  {
   "cell_type": "code",
   "execution_count": 103,
   "metadata": {},
   "outputs": [
    {
     "data": {
      "text/html": [
       "<div>\n",
       "<style scoped>\n",
       "    .dataframe tbody tr th:only-of-type {\n",
       "        vertical-align: middle;\n",
       "    }\n",
       "\n",
       "    .dataframe tbody tr th {\n",
       "        vertical-align: top;\n",
       "    }\n",
       "\n",
       "    .dataframe thead th {\n",
       "        text-align: right;\n",
       "    }\n",
       "</style>\n",
       "<table border=\"1\" class=\"dataframe\">\n",
       "  <thead>\n",
       "    <tr style=\"text-align: right;\">\n",
       "      <th></th>\n",
       "      <th>Dataset</th>\n",
       "      <th>age</th>\n",
       "      <th>gender</th>\n",
       "      <th>albumin</th>\n",
       "      <th>alkaline_phosphatase</th>\n",
       "      <th>alanine_aminotransferase</th>\n",
       "      <th>aspartate_aminotransferase</th>\n",
       "      <th>bilirubin</th>\n",
       "      <th>cholinesterase</th>\n",
       "      <th>cholesterol</th>\n",
       "      <th>creatinine</th>\n",
       "      <th>gamma_glutamyl_transferase</th>\n",
       "      <th>protein</th>\n",
       "    </tr>\n",
       "  </thead>\n",
       "  <tbody>\n",
       "    <tr>\n",
       "      <th>0</th>\n",
       "      <td>2</td>\n",
       "      <td>23</td>\n",
       "      <td>0</td>\n",
       "      <td>47.0</td>\n",
       "      <td>19.1</td>\n",
       "      <td>38.9</td>\n",
       "      <td>164.2</td>\n",
       "      <td>17.0</td>\n",
       "      <td>7.09</td>\n",
       "      <td>3.20</td>\n",
       "      <td>79.3</td>\n",
       "      <td>90.4</td>\n",
       "      <td>70.1</td>\n",
       "    </tr>\n",
       "    <tr>\n",
       "      <th>1</th>\n",
       "      <td>2</td>\n",
       "      <td>25</td>\n",
       "      <td>0</td>\n",
       "      <td>42.0</td>\n",
       "      <td>38.2</td>\n",
       "      <td>63.3</td>\n",
       "      <td>187.7</td>\n",
       "      <td>14.0</td>\n",
       "      <td>6.00</td>\n",
       "      <td>4.28</td>\n",
       "      <td>66.9</td>\n",
       "      <td>40.2</td>\n",
       "      <td>70.5</td>\n",
       "    </tr>\n",
       "    <tr>\n",
       "      <th>2</th>\n",
       "      <td>2</td>\n",
       "      <td>27</td>\n",
       "      <td>0</td>\n",
       "      <td>45.0</td>\n",
       "      <td>27.5</td>\n",
       "      <td>10.5</td>\n",
       "      <td>37.8</td>\n",
       "      <td>10.0</td>\n",
       "      <td>8.77</td>\n",
       "      <td>3.20</td>\n",
       "      <td>55.2</td>\n",
       "      <td>35.9</td>\n",
       "      <td>74.5</td>\n",
       "    </tr>\n",
       "    <tr>\n",
       "      <th>3</th>\n",
       "      <td>3</td>\n",
       "      <td>29</td>\n",
       "      <td>0</td>\n",
       "      <td>41.0</td>\n",
       "      <td>43.1</td>\n",
       "      <td>2.4</td>\n",
       "      <td>83.5</td>\n",
       "      <td>6.0</td>\n",
       "      <td>11.49</td>\n",
       "      <td>5.42</td>\n",
       "      <td>55.2</td>\n",
       "      <td>130.0</td>\n",
       "      <td>66.5</td>\n",
       "    </tr>\n",
       "    <tr>\n",
       "      <th>4</th>\n",
       "      <td>0</td>\n",
       "      <td>32</td>\n",
       "      <td>0</td>\n",
       "      <td>38.5</td>\n",
       "      <td>52.5</td>\n",
       "      <td>7.7</td>\n",
       "      <td>22.1</td>\n",
       "      <td>7.5</td>\n",
       "      <td>6.93</td>\n",
       "      <td>3.23</td>\n",
       "      <td>106.0</td>\n",
       "      <td>12.1</td>\n",
       "      <td>69</td>\n",
       "    </tr>\n",
       "  </tbody>\n",
       "</table>\n",
       "</div>"
      ],
      "text/plain": [
       "   Dataset  age  gender  albumin  alkaline_phosphatase  \\\n",
       "0        2   23       0     47.0                  19.1   \n",
       "1        2   25       0     42.0                  38.2   \n",
       "2        2   27       0     45.0                  27.5   \n",
       "3        3   29       0     41.0                  43.1   \n",
       "4        0   32       0     38.5                  52.5   \n",
       "\n",
       "   alanine_aminotransferase  aspartate_aminotransferase  bilirubin  \\\n",
       "0                      38.9                       164.2       17.0   \n",
       "1                      63.3                       187.7       14.0   \n",
       "2                      10.5                        37.8       10.0   \n",
       "3                       2.4                        83.5        6.0   \n",
       "4                       7.7                        22.1        7.5   \n",
       "\n",
       "   cholinesterase  cholesterol  creatinine  gamma_glutamyl_transferase   \\\n",
       "0            7.09         3.20        79.3                         90.4   \n",
       "1            6.00         4.28        66.9                         40.2   \n",
       "2            8.77         3.20        55.2                         35.9   \n",
       "3           11.49         5.42        55.2                        130.0   \n",
       "4            6.93         3.23       106.0                         12.1   \n",
       "\n",
       "  protein   \n",
       "0     70.1  \n",
       "1     70.5  \n",
       "2     74.5  \n",
       "3     66.5  \n",
       "4       69  "
      ]
     },
     "execution_count": 103,
     "metadata": {},
     "output_type": "execute_result"
    }
   ],
   "source": [
    "df.head()"
   ]
  },
  {
   "cell_type": "code",
   "execution_count": null,
   "metadata": {},
   "outputs": [],
   "source": []
  },
  {
   "cell_type": "code",
   "execution_count": 105,
   "metadata": {},
   "outputs": [
    {
     "data": {
      "text/plain": [
       "(582, 13)"
      ]
     },
     "execution_count": 105,
     "metadata": {},
     "output_type": "execute_result"
    }
   ],
   "source": [
    "df.shape"
   ]
  },
  {
   "cell_type": "code",
   "execution_count": 106,
   "metadata": {},
   "outputs": [
    {
     "data": {
      "text/html": [
       "<div>\n",
       "<style scoped>\n",
       "    .dataframe tbody tr th:only-of-type {\n",
       "        vertical-align: middle;\n",
       "    }\n",
       "\n",
       "    .dataframe tbody tr th {\n",
       "        vertical-align: top;\n",
       "    }\n",
       "\n",
       "    .dataframe thead th {\n",
       "        text-align: right;\n",
       "    }\n",
       "</style>\n",
       "<table border=\"1\" class=\"dataframe\">\n",
       "  <thead>\n",
       "    <tr style=\"text-align: right;\">\n",
       "      <th></th>\n",
       "      <th>Dataset</th>\n",
       "      <th>age</th>\n",
       "      <th>gender</th>\n",
       "      <th>albumin</th>\n",
       "      <th>alkaline_phosphatase</th>\n",
       "      <th>alanine_aminotransferase</th>\n",
       "      <th>aspartate_aminotransferase</th>\n",
       "      <th>bilirubin</th>\n",
       "      <th>cholinesterase</th>\n",
       "      <th>cholesterol</th>\n",
       "      <th>creatinine</th>\n",
       "      <th>gamma_glutamyl_transferase</th>\n",
       "      <th>protein</th>\n",
       "    </tr>\n",
       "  </thead>\n",
       "  <tbody>\n",
       "    <tr>\n",
       "      <th>0</th>\n",
       "      <td>2</td>\n",
       "      <td>23</td>\n",
       "      <td>0</td>\n",
       "      <td>47.0</td>\n",
       "      <td>19.1</td>\n",
       "      <td>38.9</td>\n",
       "      <td>164.2</td>\n",
       "      <td>17.0</td>\n",
       "      <td>7.09</td>\n",
       "      <td>3.20</td>\n",
       "      <td>79.3</td>\n",
       "      <td>90.4</td>\n",
       "      <td>70.1</td>\n",
       "    </tr>\n",
       "    <tr>\n",
       "      <th>1</th>\n",
       "      <td>2</td>\n",
       "      <td>25</td>\n",
       "      <td>0</td>\n",
       "      <td>42.0</td>\n",
       "      <td>38.2</td>\n",
       "      <td>63.3</td>\n",
       "      <td>187.7</td>\n",
       "      <td>14.0</td>\n",
       "      <td>6.00</td>\n",
       "      <td>4.28</td>\n",
       "      <td>66.9</td>\n",
       "      <td>40.2</td>\n",
       "      <td>70.5</td>\n",
       "    </tr>\n",
       "    <tr>\n",
       "      <th>2</th>\n",
       "      <td>2</td>\n",
       "      <td>27</td>\n",
       "      <td>0</td>\n",
       "      <td>45.0</td>\n",
       "      <td>27.5</td>\n",
       "      <td>10.5</td>\n",
       "      <td>37.8</td>\n",
       "      <td>10.0</td>\n",
       "      <td>8.77</td>\n",
       "      <td>3.20</td>\n",
       "      <td>55.2</td>\n",
       "      <td>35.9</td>\n",
       "      <td>74.5</td>\n",
       "    </tr>\n",
       "    <tr>\n",
       "      <th>3</th>\n",
       "      <td>3</td>\n",
       "      <td>29</td>\n",
       "      <td>0</td>\n",
       "      <td>41.0</td>\n",
       "      <td>43.1</td>\n",
       "      <td>2.4</td>\n",
       "      <td>83.5</td>\n",
       "      <td>6.0</td>\n",
       "      <td>11.49</td>\n",
       "      <td>5.42</td>\n",
       "      <td>55.2</td>\n",
       "      <td>130.0</td>\n",
       "      <td>66.5</td>\n",
       "    </tr>\n",
       "    <tr>\n",
       "      <th>4</th>\n",
       "      <td>0</td>\n",
       "      <td>32</td>\n",
       "      <td>0</td>\n",
       "      <td>38.5</td>\n",
       "      <td>52.5</td>\n",
       "      <td>7.7</td>\n",
       "      <td>22.1</td>\n",
       "      <td>7.5</td>\n",
       "      <td>6.93</td>\n",
       "      <td>3.23</td>\n",
       "      <td>106.0</td>\n",
       "      <td>12.1</td>\n",
       "      <td>69</td>\n",
       "    </tr>\n",
       "  </tbody>\n",
       "</table>\n",
       "</div>"
      ],
      "text/plain": [
       "   Dataset  age  gender  albumin  alkaline_phosphatase  \\\n",
       "0        2   23       0     47.0                  19.1   \n",
       "1        2   25       0     42.0                  38.2   \n",
       "2        2   27       0     45.0                  27.5   \n",
       "3        3   29       0     41.0                  43.1   \n",
       "4        0   32       0     38.5                  52.5   \n",
       "\n",
       "   alanine_aminotransferase  aspartate_aminotransferase  bilirubin  \\\n",
       "0                      38.9                       164.2       17.0   \n",
       "1                      63.3                       187.7       14.0   \n",
       "2                      10.5                        37.8       10.0   \n",
       "3                       2.4                        83.5        6.0   \n",
       "4                       7.7                        22.1        7.5   \n",
       "\n",
       "   cholinesterase  cholesterol  creatinine  gamma_glutamyl_transferase   \\\n",
       "0            7.09         3.20        79.3                         90.4   \n",
       "1            6.00         4.28        66.9                         40.2   \n",
       "2            8.77         3.20        55.2                         35.9   \n",
       "3           11.49         5.42        55.2                        130.0   \n",
       "4            6.93         3.23       106.0                         12.1   \n",
       "\n",
       "  protein   \n",
       "0     70.1  \n",
       "1     70.5  \n",
       "2     74.5  \n",
       "3     66.5  \n",
       "4       69  "
      ]
     },
     "execution_count": 106,
     "metadata": {},
     "output_type": "execute_result"
    }
   ],
   "source": [
    "df.head()"
   ]
  },
  {
   "cell_type": "code",
   "execution_count": null,
   "metadata": {},
   "outputs": [],
   "source": []
  },
  {
   "cell_type": "markdown",
   "metadata": {},
   "source": [
    "# Data Preparation"
   ]
  },
  {
   "cell_type": "code",
   "execution_count": 114,
   "metadata": {},
   "outputs": [],
   "source": [
    "# Create separate object for target variable\n",
    "y = df.Dataset\n",
    "\n",
    "# Create separate object for input features\n",
    "X = df[['creatinine','bilirubin','aspartate_aminotransferase','gamma_glutamyl_transferase ']]"
   ]
  },
  {
   "cell_type": "code",
   "execution_count": 115,
   "metadata": {},
   "outputs": [],
   "source": [
    "X_train, X_test, y_train, y_test = train_test_split(X, y, \n",
    "                                                    test_size=0.2, \n",
    "                                                    random_state=1234)"
   ]
  },
  {
   "cell_type": "code",
   "execution_count": 116,
   "metadata": {},
   "outputs": [
    {
     "name": "stdout",
     "output_type": "stream",
     "text": [
      "(465, 4) (117, 4) (465,) (117,)\n"
     ]
    }
   ],
   "source": [
    "print(X_train.shape, X_test.shape, y_train.shape, y_test.shape)"
   ]
  },
  {
   "cell_type": "code",
   "execution_count": 117,
   "metadata": {},
   "outputs": [
    {
     "data": {
      "text/plain": [
       "RandomForestClassifier(bootstrap=True, class_weight=None, criterion='gini',\n",
       "                       max_depth=None, max_features='auto', max_leaf_nodes=None,\n",
       "                       min_impurity_decrease=0.0, min_impurity_split=None,\n",
       "                       min_samples_leaf=1, min_samples_split=2,\n",
       "                       min_weight_fraction_leaf=0.0, n_estimators=100,\n",
       "                       n_jobs=None, oob_score=False, random_state=None,\n",
       "                       verbose=0, warm_start=False)"
      ]
     },
     "execution_count": 117,
     "metadata": {},
     "output_type": "execute_result"
    }
   ],
   "source": [
    "model =RandomForestClassifier(n_estimators=100)\n",
    "model.fit(X_train, y_train)"
   ]
  },
  {
   "cell_type": "code",
   "execution_count": 118,
   "metadata": {},
   "outputs": [],
   "source": [
    "y_train_pred = model.predict(X_train)"
   ]
  },
  {
   "cell_type": "code",
   "execution_count": 119,
   "metadata": {},
   "outputs": [],
   "source": [
    "y_pred = model.predict(X_test)"
   ]
  },
  {
   "cell_type": "code",
   "execution_count": 121,
   "metadata": {},
   "outputs": [
    {
     "data": {
      "text/plain": [
       "0.9572649572649573"
      ]
     },
     "execution_count": 121,
     "metadata": {},
     "output_type": "execute_result"
    }
   ],
   "source": [
    "from sklearn.metrics import accuracy_score\n",
    "accuracy_score(y_test, y_pred)"
   ]
  },
  {
   "cell_type": "code",
   "execution_count": 122,
   "metadata": {},
   "outputs": [
    {
     "data": {
      "text/plain": [
       "1.0"
      ]
     },
     "execution_count": 122,
     "metadata": {},
     "output_type": "execute_result"
    }
   ],
   "source": [
    "accuracy_score(y_train, y_train_pred)"
   ]
  },
  {
   "cell_type": "code",
   "execution_count": 123,
   "metadata": {},
   "outputs": [
    {
     "data": {
      "text/plain": [
       "array([0, 0, 0, 4, 0, 0, 0, 0, 0, 0, 0, 0, 0, 0, 0, 0, 0, 0, 0, 0, 0, 0,\n",
       "       0, 0, 0, 0, 0, 0, 0, 0, 0, 0, 0, 0, 0, 0, 0, 0, 0, 0, 0, 0, 0, 0,\n",
       "       4, 0, 0, 0, 0, 0, 0, 0, 0, 0, 0, 0, 0, 0, 0, 0, 0, 0, 0, 0, 0, 0,\n",
       "       0, 0, 0, 0, 0, 3, 3, 0, 0, 0, 0, 0, 0, 0, 0, 0, 0, 0, 0, 0, 0, 0,\n",
       "       0, 0, 0, 0, 0, 0, 0, 0, 0, 0, 0, 0, 0, 0, 0, 0, 0, 0, 0, 0, 0, 4,\n",
       "       0, 0, 0, 0, 0, 0, 0], dtype=int64)"
      ]
     },
     "execution_count": 123,
     "metadata": {},
     "output_type": "execute_result"
    }
   ],
   "source": [
    "y_pred"
   ]
  },
  {
   "cell_type": "code",
   "execution_count": null,
   "metadata": {},
   "outputs": [],
   "source": []
  },
  {
   "cell_type": "code",
   "execution_count": 124,
   "metadata": {},
   "outputs": [
    {
     "name": "stdout",
     "output_type": "stream",
     "text": [
      "0.9572649572649573 0.9096774193548387\n"
     ]
    }
   ],
   "source": [
    "from sklearn.naive_bayes import GaussianNB\n",
    "from sklearn.metrics import mean_squared_error\n",
    "from math import sqrt\n",
    "\n",
    "clf=GaussianNB()\n",
    "clf.fit(X_train,y_train)\n",
    "pred1=clf.predict(X_test)\n",
    "pred2=clf.predict(X_train)\n",
    "asc1=accuracy_score(y_test,pred1)\n",
    "asc2=accuracy_score(y_train,pred2)\n",
    "\n",
    "print(asc1,asc2)"
   ]
  },
  {
   "cell_type": "code",
   "execution_count": null,
   "metadata": {},
   "outputs": [],
   "source": []
  },
  {
   "cell_type": "code",
   "execution_count": 125,
   "metadata": {},
   "outputs": [
    {
     "name": "stderr",
     "output_type": "stream",
     "text": [
      "C:\\Users\\Amritpal Singh\\Anaconda3\\lib\\site-packages\\sklearn\\linear_model\\logistic.py:432: FutureWarning: Default solver will be changed to 'lbfgs' in 0.22. Specify a solver to silence this warning.\n",
      "  FutureWarning)\n",
      "C:\\Users\\Amritpal Singh\\Anaconda3\\lib\\site-packages\\sklearn\\linear_model\\logistic.py:469: FutureWarning: Default multi_class will be changed to 'auto' in 0.22. Specify the multi_class option to silence this warning.\n",
      "  \"this warning.\", FutureWarning)\n"
     ]
    },
    {
     "name": "stdout",
     "output_type": "stream",
     "text": [
      "0.9572649572649573 0.9268817204301075\n"
     ]
    }
   ],
   "source": [
    "logreg = LogisticRegression()\n",
    "\n",
    "logreg.fit(X_train, y_train)\n",
    "\n",
    "pred1=logreg.predict(X_test)\n",
    "pred2=logreg.predict(X_train)\n",
    "asc1=accuracy_score(y_test,pred1)\n",
    "asc2=accuracy_score(y_train,pred2)\n",
    "\n",
    "print(asc1,asc2)"
   ]
  },
  {
   "cell_type": "code",
   "execution_count": null,
   "metadata": {},
   "outputs": [],
   "source": []
  },
  {
   "cell_type": "code",
   "execution_count": 126,
   "metadata": {},
   "outputs": [
    {
     "name": "stdout",
     "output_type": "stream",
     "text": [
      "0.9230769230769231 0.8602150537634409\n"
     ]
    }
   ],
   "source": [
    "from sklearn.naive_bayes import MultinomialNB\n",
    "from sklearn.metrics import mean_squared_error\n",
    "from math import sqrt\n",
    "\n",
    "clf=MultinomialNB()\n",
    "clf.fit(X_train,y_train)\n",
    "pred1=clf.predict(X_test)\n",
    "pred2=clf.predict(X_train)\n",
    "asc1=accuracy_score(y_test,pred1)\n",
    "asc2=accuracy_score(y_train,pred2)\n",
    "\n",
    "print(asc1,asc2)"
   ]
  },
  {
   "cell_type": "code",
   "execution_count": 127,
   "metadata": {},
   "outputs": [
    {
     "name": "stdout",
     "output_type": "stream",
     "text": [
      "0.9316239316239316 0.896774193548387\n"
     ]
    }
   ],
   "source": [
    "from sklearn.naive_bayes import BernoulliNB\n",
    "from sklearn.metrics import mean_squared_error\n",
    "from math import sqrt\n",
    "\n",
    "clf=BernoulliNB()\n",
    "clf.fit(X_train,y_train)\n",
    "pred1=clf.predict(X_test)\n",
    "pred2=clf.predict(X_train)\n",
    "asc1=accuracy_score(y_test,pred1)\n",
    "asc2=accuracy_score(y_train,pred2)\n",
    "\n",
    "print(asc1,asc2)"
   ]
  },
  {
   "cell_type": "code",
   "execution_count": 134,
   "metadata": {},
   "outputs": [],
   "source": [
    "from sklearn.svm import SVC\n",
    "def svc_param_selection(X, y, nfolds):\n",
    "    Cs = [0.001, 0.01, 0.1, 1, 10]\n",
    "    gammas = [0.001, 0.01, 0.1, 1]\n",
    "    param_grid = {'C': Cs, 'gamma' : gammas}\n",
    "    grid_search = GridSearchCV(svm.SVC(kernel='rbf'), param_grid, cv=nfolds)\n",
    "    grid_search.fit(X_train, y_train)\n",
    "    grid_search.best_params_\n",
    "    return grid_search.best_params_"
   ]
  },
  {
   "cell_type": "code",
   "execution_count": 135,
   "metadata": {},
   "outputs": [
    {
     "name": "stderr",
     "output_type": "stream",
     "text": [
      "C:\\Users\\Amritpal Singh\\Anaconda3\\lib\\site-packages\\sklearn\\svm\\base.py:193: FutureWarning: The default value of gamma will change from 'auto' to 'scale' in version 0.22 to account better for unscaled features. Set gamma explicitly to 'auto' or 'scale' to avoid this warning.\n",
      "  \"avoid this warning.\", FutureWarning)\n"
     ]
    },
    {
     "data": {
      "text/plain": [
       "SVC(C=1.0, cache_size=200, class_weight=None, coef0=0.0,\n",
       "    decision_function_shape='ovr', degree=3, gamma='auto_deprecated',\n",
       "    kernel='rbf', max_iter=-1, probability=True, random_state=None,\n",
       "    shrinking=True, tol=0.001, verbose=False)"
      ]
     },
     "execution_count": 135,
     "metadata": {},
     "output_type": "execute_result"
    }
   ],
   "source": [
    "svClassifier=SVC(kernel='rbf',probability=True)\n",
    "svClassifier.fit(X_train,y_train)"
   ]
  },
  {
   "cell_type": "code",
   "execution_count": 136,
   "metadata": {},
   "outputs": [
    {
     "data": {
      "text/plain": [
       "SVC(C=1, cache_size=200, class_weight=None, coef0=0.0,\n",
       "    decision_function_shape='ovr', degree=3, gamma=1, kernel='rbf', max_iter=-1,\n",
       "    probability=False, random_state=None, shrinking=True, tol=0.001,\n",
       "    verbose=False)"
      ]
     },
     "execution_count": 136,
     "metadata": {},
     "output_type": "execute_result"
    }
   ],
   "source": [
    "###### Building the model again with the best hyperparameters\n",
    "model = SVC(C=1, gamma=1)\n",
    "model.fit(X_train, y_train)"
   ]
  },
  {
   "cell_type": "code",
   "execution_count": 137,
   "metadata": {},
   "outputs": [],
   "source": [
    "y_train_pred = model.predict(X_train)"
   ]
  },
  {
   "cell_type": "code",
   "execution_count": 138,
   "metadata": {},
   "outputs": [],
   "source": [
    "y_pred = model.predict(X_test)"
   ]
  },
  {
   "cell_type": "code",
   "execution_count": 139,
   "metadata": {},
   "outputs": [
    {
     "name": "stdout",
     "output_type": "stream",
     "text": [
      "0.9316239316239316 1.0\n"
     ]
    }
   ],
   "source": [
    "asc1=accuracy_score(y_test,y_pred)\n",
    "asc2=accuracy_score(y_train,y_train_pred)\n",
    "\n",
    "print(asc1,asc2)"
   ]
  },
  {
   "cell_type": "code",
   "execution_count": null,
   "metadata": {},
   "outputs": [],
   "source": []
  }
 ],
 "metadata": {
  "kernelspec": {
   "display_name": "Python 3",
   "language": "python",
   "name": "python3"
  },
  "language_info": {
   "codemirror_mode": {
    "name": "ipython",
    "version": 3
   },
   "file_extension": ".py",
   "mimetype": "text/x-python",
   "name": "python",
   "nbconvert_exporter": "python",
   "pygments_lexer": "ipython3",
   "version": "3.7.3"
  }
 },
 "nbformat": 4,
 "nbformat_minor": 2
}
